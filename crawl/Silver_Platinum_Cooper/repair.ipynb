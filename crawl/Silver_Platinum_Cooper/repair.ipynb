{
 "cells": [
  {
   "cell_type": "markdown",
   "metadata": {},
   "source": [
    "D:\\20231\\code\\intro to ds\\selenium\\GoldPricePrediction\\crawl\\Silver_Platinum_Cooper\\sp500.csv\n",
    "\n",
    "D:\\20231\\code\\intro to ds\\selenium\\GoldPricePrediction\\crawl\\Silver_Platinum_Cooper\\RUT.csv\n",
    "\n",
    "D:\\20231\\code\\intro to ds\\selenium\\GoldPricePrediction\\crawl\\Silver_Platinum_Cooper\\NASDAQ.csv\n",
    "\n",
    "D:\\20231\\code\\intro to ds\\selenium\\GoldPricePrediction\\crawl\\Silver_Platinum_Cooper\\gold.csv"
   ]
  },
  {
   "cell_type": "code",
   "execution_count": 9,
   "metadata": {},
   "outputs": [],
   "source": [
    "import csv\n",
    "import pandas as pd\n",
    "# Define the file path\n",
    "file_path = r'D:\\20231\\code\\intro to ds\\selenium\\GoldPricePrediction\\crawl\\Silver_Platinum_Cooper\\gold.csv'  # Replace with the actual path to your CSV file\n",
    "sp5000={\n",
    "    'date':[],\n",
    "    'open':[],\n",
    "    'high':[],\n",
    "    'low':[],\n",
    "    'close':[]\n",
    "}\n",
    "# Read the CSV file\n",
    "with open(file_path, newline='') as csvfile:\n",
    "    csv_reader = csv.DictReader(csvfile)\n",
    "    for row in csv_reader:\n",
    "        # Convert the date string to a datetime object\n",
    "        date = row['Date']\n",
    "\n",
    "        sp5000['date'].append(date)\n",
    "        # Convert the price string to a float\n",
    "        open = float(row['Open'].replace(',', ''))\n",
    "        high = float(row['High'].replace(',', ''))\n",
    "        low = float(row['Low'].replace(',', ''))\n",
    "        close = float(row['Close'].replace(',', ''))\n",
    "        sp5000['open'].append(open)\n",
    "        sp5000['high'].append(high)\n",
    "        sp5000['low'].append(low)\n",
    "        sp5000['close'].append(close)\n",
    "\n",
    "\n",
    "df=pd.DataFrame(sp5000)\n",
    "df.to_csv('gold_repair.csv', index = False) "
   ]
  }
 ],
 "metadata": {
  "kernelspec": {
   "display_name": "Python 3",
   "language": "python",
   "name": "python3"
  },
  "language_info": {
   "codemirror_mode": {
    "name": "ipython",
    "version": 3
   },
   "file_extension": ".py",
   "mimetype": "text/x-python",
   "name": "python",
   "nbconvert_exporter": "python",
   "pygments_lexer": "ipython3",
   "version": "3.11.5"
  }
 },
 "nbformat": 4,
 "nbformat_minor": 2
}
