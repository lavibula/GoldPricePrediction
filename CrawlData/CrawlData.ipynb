{
  "cells": [
    {
      "cell_type": "code",
      "execution_count": 2,
      "metadata": {},
      "outputs": [
        {
          "name": "stdout",
          "output_type": "stream",
          "text": [
            "Collecting bs4Note: you may need to restart the kernel to use updated packages.\n"
          ]
        },
        {
          "name": "stderr",
          "output_type": "stream",
          "text": [
            "\n",
            "[notice] A new release of pip available: 22.2.1 -> 23.3.1\n",
            "[notice] To update, run: python.exe -m pip install --upgrade pip\n"
          ]
        },
        {
          "name": "stdout",
          "output_type": "stream",
          "text": [
            "\n",
            "  Downloading bs4-0.0.1.tar.gz (1.1 kB)\n",
            "  Preparing metadata (setup.py): started\n",
            "  Preparing metadata (setup.py): finished with status 'done'\n",
            "Collecting beautifulsoup4\n",
            "  Downloading beautifulsoup4-4.12.2-py3-none-any.whl (142 kB)\n",
            "     -------------------------------------- 143.0/143.0 kB 1.1 MB/s eta 0:00:00\n",
            "Collecting soupsieve>1.2\n",
            "  Downloading soupsieve-2.5-py3-none-any.whl (36 kB)\n",
            "Building wheels for collected packages: bs4\n",
            "  Building wheel for bs4 (setup.py): started\n",
            "  Building wheel for bs4 (setup.py): finished with status 'done'\n",
            "  Created wheel for bs4: filename=bs4-0.0.1-py3-none-any.whl size=1264 sha256=a04ee82e3e0dbe1591854b11d9a39088d2f520f241754ea386ddc8344c0fc8e9\n",
            "  Stored in directory: c:\\users\\administrator\\appdata\\local\\pip\\cache\\wheels\\25\\42\\45\\b773edc52acb16cd2db4cf1a0b47117e2f69bb4eb300ed0e70\n",
            "Successfully built bs4\n",
            "Installing collected packages: soupsieve, beautifulsoup4, bs4\n",
            "Successfully installed beautifulsoup4-4.12.2 bs4-0.0.1 soupsieve-2.5\n"
          ]
        }
      ],
      "source": [
        "pip install bs4"
      ]
    },
    {
      "cell_type": "code",
      "execution_count": 3,
      "id": "27e83112",
      "metadata": {
        "id": "27e83112"
      },
      "outputs": [],
      "source": [
        "import requests\n",
        "from bs4 import BeautifulSoup\n",
        "import pandas as pd"
      ]
    },
    {
      "cell_type": "code",
      "execution_count": 9,
      "metadata": {},
      "outputs": [],
      "source": [
        "elements = ['CrudeOil', 'VIX', 'IXIC']\n",
        "for target in elements:\n",
        "    file_path = '%s.html' %target\n",
        "\n",
        "    with open(file_path, 'r', encoding='utf-8') as file:\n",
        "        html_content = file.read()\n",
        "\n",
        "    # Parse the HTML content using BeautifulSoup\n",
        "    soup = BeautifulSoup(html_content, 'html.parser')\n",
        "    \n",
        "    table = soup.find('table', class_ = 'w-full text-xs leading-4 overflow-x-auto freeze-column-w-1')\n",
        "    world_titles = table.find_all('th')\n",
        "    world_table_titles = [title.text.strip() for title in world_titles]\n",
        "    \n",
        "    df = pd.DataFrame(columns = world_table_titles)\n",
        "    column_data = table.find_all('tr')\n",
        "    for row in column_data[1:]:\n",
        "        row_data = row.find_all('td')\n",
        "        individual_row_data = [data.text.strip() for data in row_data]\n",
        "\n",
        "        length = len(df)\n",
        "        df.loc[length] = individual_row_data\n",
        "\n",
        "    df['Date'] = pd.to_datetime(df['Date'])\n",
        "    df = df.rename(columns = {'Price': target})\n",
        "    df = df[['Date', target]]\n",
        "    df.to_csv('%s.csv' %target)"
      ]
    }
  ],
  "metadata": {
    "colab": {
      "provenance": []
    },
    "kernelspec": {
      "display_name": "Python 3 (ipykernel)",
      "language": "python",
      "name": "python3"
    },
    "language_info": {
      "codemirror_mode": {
        "name": "ipython",
        "version": 3
      },
      "file_extension": ".py",
      "mimetype": "text/x-python",
      "name": "python",
      "nbconvert_exporter": "python",
      "pygments_lexer": "ipython3",
      "version": "3.10.6"
    }
  },
  "nbformat": 4,
  "nbformat_minor": 5
}
