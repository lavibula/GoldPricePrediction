{
  "cells": [
    {
      "cell_type": "code",
      "source": [
        "from google.colab import drive\n",
        "drive.mount('/content/drive')"
      ],
      "metadata": {
        "colab": {
          "base_uri": "https://localhost:8080/"
        },
        "id": "kqbzTSlZL7or",
        "outputId": "9bd5b3ce-c86d-4905-ad2a-9a1bf59e822e"
      },
      "id": "kqbzTSlZL7or",
      "execution_count": 4,
      "outputs": [
        {
          "output_type": "stream",
          "name": "stdout",
          "text": [
            "Mounted at /content/drive\n"
          ]
        }
      ]
    },
    {
      "cell_type": "code",
      "execution_count": 5,
      "id": "27e83112",
      "metadata": {
        "id": "27e83112"
      },
      "outputs": [],
      "source": [
        "import requests\n",
        "from bs4 import BeautifulSoup\n",
        "import pandas as pd"
      ]
    },
    {
      "cell_type": "code",
      "execution_count": 6,
      "id": "b40dce12",
      "metadata": {
        "id": "b40dce12"
      },
      "outputs": [],
      "source": [
        "url = 'https://www.investing.com/commodities/crude-oil-historical-data'\n",
        "\n",
        "page = requests.get(url)\n",
        "\n",
        "soup = BeautifulSoup(page.text, 'html')"
      ]
    },
    {
      "cell_type": "code",
      "source": [
        "# Replace with the actual path to your HTML file\n",
        "file_path = '/content/CrudeOil.html'\n",
        "\n",
        "with open(file_path, 'r', encoding='utf-8') as file:\n",
        "    html_content = file.read()\n",
        "\n",
        "# Parse the HTML content using BeautifulSoup\n",
        "soup = BeautifulSoup(html_content, 'html.parser')\n"
      ],
      "metadata": {
        "id": "hRW5Q0avKmva"
      },
      "id": "hRW5Q0avKmva",
      "execution_count": null,
      "outputs": []
    },
    {
      "cell_type": "code",
      "execution_count": 9,
      "id": "9b32c90a",
      "metadata": {
        "id": "9b32c90a"
      },
      "outputs": [],
      "source": [
        "table = soup.find('table', class_ = 'w-full text-xs leading-4 overflow-x-auto freeze-column-w-1')\n",
        "world_titles = table.find_all('th')\n",
        "world_table_titles = [title.text.strip() for title in world_titles]"
      ]
    },
    {
      "cell_type": "code",
      "execution_count": 8,
      "id": "6328f94e",
      "metadata": {
        "id": "6328f94e"
      },
      "outputs": [],
      "source": [
        "df = pd.DataFrame(columns = world_table_titles)\n",
        "column_data = table.find_all('tr')\n",
        "for row in column_data[1:]:\n",
        "    row_data = row.find_all('td')\n",
        "    individual_row_data = [data.text.strip() for data in row_data]\n",
        "\n",
        "    length = len(df)\n",
        "    df.loc[length] = individual_row_data\n",
        "\n",
        "df['Date'] = pd.to_datetime(df['Date'])\n",
        "df = df[['Date', 'Price']]\n"
      ]
    }
  ],
  "metadata": {
    "kernelspec": {
      "display_name": "Python 3 (ipykernel)",
      "language": "python",
      "name": "python3"
    },
    "language_info": {
      "codemirror_mode": {
        "name": "ipython",
        "version": 3
      },
      "file_extension": ".py",
      "mimetype": "text/x-python",
      "name": "python",
      "nbconvert_exporter": "python",
      "pygments_lexer": "ipython3",
      "version": "3.9.13"
    },
    "colab": {
      "provenance": []
    }
  },
  "nbformat": 4,
  "nbformat_minor": 5
}