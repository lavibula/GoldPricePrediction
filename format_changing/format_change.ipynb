{
 "cells": [
  {
   "cell_type": "code",
   "execution_count": 1,
   "metadata": {},
   "outputs": [
    {
     "name": "stdout",
     "output_type": "stream",
     "text": [
      "14\n"
     ]
    }
   ],
   "source": [
    "import glob\n",
    "import csv\n",
    "import os\n",
    "import pandas as pd\n",
    "folder =r'D:\\20231\\code\\intro to ds\\selenium\\GoldPricePrediction\\crawl\\new_data\\data'\n",
    "\n",
    "# Get a list of all CSV files in the directory\n",
    "csv_files = glob.glob(os.path.join(folder, '*.csv'))\n",
    "print(len(csv_files))"
   ]
  },
  {
   "cell_type": "code",
   "execution_count": 9,
   "metadata": {},
   "outputs": [],
   "source": [
    "\n",
    "for id,file_path in enumerate(csv_files):\n",
    "    # Extract the file name without extension\n",
    "    file_name = os.path.splitext(os.path.basename(file_path))[0]\n",
    "\n",
    "    # Read the CSV file into a list of dictionaries\n",
    "    data = []\n",
    "    with open(file_path, newline='') as csvfile:\n",
    "        csv_reader = csv.DictReader(csvfile)\n",
    "        for row in csv_reader:\n",
    "            data.append(row)\n",
    "    # Modify the column name\n",
    "    old_column_name=list(data[0].keys())\n",
    "    new_column_name = file_name\n",
    "    for row in data:\n",
    "        try:\n",
    "            row[new_column_name] = row.pop('Price')\n",
    "            row[new_column_name]=float(row[new_column_name])\n",
    "        except:\n",
    "            row[old_column_name[1]]=float(row[old_column_name[1]])\n",
    "    df=pd.DataFrame(data)\n",
    "    name=new_column_name+'.csv'\n",
    "    df.to_csv(name, index = False) \n",
    "\n"
   ]
  },
  {
   "cell_type": "code",
   "execution_count": null,
   "metadata": {},
   "outputs": [],
   "source": [
    "old_column_name=list(data[0].keys())\n",
    "data"
   ]
  },
  {
   "cell_type": "code",
   "execution_count": 7,
   "metadata": {},
   "outputs": [
    {
     "name": "stdout",
     "output_type": "stream",
     "text": [
      "1234613.9\n"
     ]
    }
   ],
   "source": [
    "numeric_string = '1,234,613.9'\n",
    "numeric_float = float(numeric_string.replace(',', ''))\n",
    "print(numeric_float)\n"
   ]
  },
  {
   "cell_type": "code",
   "execution_count": null,
   "metadata": {},
   "outputs": [],
   "source": [
    "\n",
    "file_path=r'D:\\20231\\code\\intro to ds\\selenium\\GoldPricePrediction\\crawl\\MSCI_EM_EFT\\Gold.csv'\n",
    "file_name = os.path.splitext(os.path.basename(file_path))[0]\n",
    "\n",
    "    # Read the CSV file into a list of dictionaries\n",
    "data = []\n",
    "with open(file_path, newline='') as csvfile:\n",
    "    csv_reader = csv.DictReader(csvfile)\n",
    "    for row in csv_reader:\n",
    "        data.append(row)\n",
    "# Modify the column name\n",
    "old_column_name=list(data[0].keys())\n",
    "new_column_name = file_name\n",
    "for row in data:\n",
    "    try:\n",
    "        row[new_column_name] = row.pop('Price')\n",
    "        row[new_column_name]=float(row[new_column_name])\n",
    "    except:\n",
    "        row[old_column_name[1]]=float(row[old_column_name[1]])\n",
    "df=pd.DataFrame(data)\n",
    "name=new_column_name+'.csv'\n",
    "df.to_csv(name, index = False) "
   ]
  },
  {
   "cell_type": "code",
   "execution_count": 12,
   "metadata": {},
   "outputs": [
    {
     "name": "stderr",
     "output_type": "stream",
     "text": [
      "C:\\Users\\long0\\AppData\\Local\\Temp\\ipykernel_8340\\1876791395.py:1: FutureWarning: Series.__getitem__ treating keys as positions is deprecated. In a future version, integer keys will always be treated as labels (consistent with DataFrame behavior). To access a value by position, use `ser.iloc[pos]`\n",
      "  if df.dtypes[1] == 'float64':\n"
     ]
    }
   ],
   "source": [
    "if df.dtypes[1] == 'float64':\n",
    "    name=new_column_name+'.csv'\n",
    "    df.to_csv(name, index = False) \n",
    "else:\n",
    "    print(\"The dtype of the second column is not 'float64'\")"
   ]
  }
 ],
 "metadata": {
  "kernelspec": {
   "display_name": "Python 3",
   "language": "python",
   "name": "python3"
  },
  "language_info": {
   "codemirror_mode": {
    "name": "ipython",
    "version": 3
   },
   "file_extension": ".py",
   "mimetype": "text/x-python",
   "name": "python",
   "nbconvert_exporter": "python",
   "pygments_lexer": "ipython3",
   "version": "3.11.5"
  }
 },
 "nbformat": 4,
 "nbformat_minor": 2
}
